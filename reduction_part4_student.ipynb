{
 "cells": [
  {
   "cell_type": "markdown",
   "metadata": {},
   "source": [
    "<h2>OBSERVATIONAL ASTROPHYSICS – FALL 2021 Reduction Exercise: Part 4</h2>\n",
    "\n",
    "The goal of this part is to produce a color-magnitude diagram for your cluster.  Do do this we need to detect stars, measure their flux, compare it to a known magnitude for that star, derive the magnitude zeropoint for that band, and convert all of your fluxes to magnitudes.  This will be broked into the following steps:\n",
    "\n",
    "1. read in image with a valid astrometric header (the output image from the end of part 4);\n",
    "2. Locate stars in this image and measure their flux;\n",
    "3. query the online PAN-STARRS catalog and retrieve all of the objects in the vicinity of our image;\n",
    "4. Cross-match the two lists to find which object corresponds to which;\n",
    "5. Compare the true magnitude and instrumental magnitude to determine the magnitude zeropoint of your image, i.e. what magnitude is a single count;\n",
    "6. Use this to create magnitudes in each band\n",
    "7. Produce a color-magnitude diagram\n",
    "8. Determine which isochrones fit the data best\n",
    "\n",
    "There are **4 problems** that you will need to answer throughout this notebook\n",
    "\n",
    "## Due Dec. 1st at noon"
   ]
  },
  {
   "cell_type": "code",
   "execution_count": null,
   "metadata": {},
   "outputs": [],
   "source": [
    "from astropy.io import fits\n",
    "from astropy.nddata import CCDData\n",
    "import astropy.units as u\n",
    "from astropy.coordinates import SkyCoord\n",
    "from astropy.visualization import simple_norm\n",
    "from astropy.wcs import WCS\n",
    "from astropy.table import Table\n",
    "from astropy.stats import sigma_clipped_stats\n",
    "\n",
    "import numpy as np\n",
    "from matplotlib import pyplot as plt\n",
    "from scipy.stats import scoreatpercentile\n",
    "import glob\n",
    "import time\n",
    "import os\n",
    "\n",
    "#************ Change this\n",
    "redpath = \"/Users/grudnick/Work/Teaching/Classes/Astro_596/Fall_2021/Observing/Data/2021-10-19/Reduced/\""
   ]
  },
  {
   "cell_type": "markdown",
   "metadata": {},
   "source": [
    "A routine to display in image"
   ]
  },
  {
   "cell_type": "code",
   "execution_count": null,
   "metadata": {},
   "outputs": [],
   "source": [
    "def display_image(imagename,cmap='viridis',p1=5,p2=99.5,stretch='asinh'):\n",
    "  d = fits.getdata(imagename)\n",
    "  a = scoreatpercentile(d,p1)\n",
    "  b = scoreatpercentile(d,p2)\n",
    "  norm = simple_norm(d,min_percent=p1,max_percent=p2)  \n",
    "  #plt.figure(figsize=(12,10))\n",
    "  plt.imshow(d,vmin=a,vmax=b,cmap=cmap,norm=norm)\n"
   ]
  },
  {
   "cell_type": "markdown",
   "metadata": {},
   "source": [
    "# solve for zeropoint and measure photometry for objects in an image\n",
    "\n",
    "* The photometric zeropoint allows us to convert the flux we measure on the image to a magnitude.\n",
    "\n",
    "* The relationship is\n",
    "$$ m = ZP - 2.5 log_{10}(flux) $$\n",
    "where flux is measured in ADU.  Normally, we would divide the image frames by the exposure time.  The zeropoint in then the magnitude that corresponds to a source with a flux of 1ADU/s. But for now, we won't worry about normalizing by exposure time.\n",
    "\n",
    "* Instrumental magnitude refers to the second term\n",
    "$$ m_{inst} = -2.5 log_{10}(flux) $$\n",
    "\n",
    "What follows are routines needed to complete steps 1-5 from the beginning of this file"
   ]
  },
  {
   "cell_type": "code",
   "execution_count": null,
   "metadata": {},
   "outputs": [],
   "source": [
    "#this imports a function\n",
    "from scipy.optimize import curve_fit\n",
    "\n",
    "#this is something we'll need later to just add the ZP to the instrumental magnitude\n",
    "def fitZP(instmag,zp):\n",
    "  return instmag + zp"
   ]
  },
  {
   "cell_type": "code",
   "execution_count": null,
   "metadata": {},
   "outputs": [],
   "source": [
    "from photutils import DAOStarFinder\n",
    "from photutils import CircularAperture"
   ]
  },
  {
   "cell_type": "code",
   "execution_count": null,
   "metadata": {},
   "outputs": [],
   "source": [
    "# some phot functions\n",
    "\n",
    "#this routine measueres the background and subtracts it\n",
    "def get_sky_background(img, verbose=False):\n",
    "    from astropy.stats import sigma_clipped_stats\n",
    "    # estimate background counts in image\n",
    "    mean, median, std = sigma_clipped_stats(img, sigma=3.0)\n",
    "    return median,std\n",
    "\n",
    "# this detects stars using the DAOStarFinder algorithm (you can look it up)\n",
    "def find_stars(img, fwhm=3.0, nsigma=5, verbose=False):\n",
    "    from photutils import DAOStarFinder\n",
    "\n",
    "    bkg,sigma = get_sky_background(img, verbose=verbose)\n",
    "    \n",
    "    daofind = DAOStarFinder(fwhm=fwhm, threshold=nsigma * sigma)\n",
    "    srcs = daofind(img - bkg)\n",
    "    if verbose:\n",
    "        print('Found {} stars'.format(len(srcs)))    \n",
    "    return srcs\n",
    "\n",
    "#this queries the PAN-STARRS catalog\n",
    "def get_panstarrs_catalog(imgwcs, radius=0.2, verbose=False, maxsources=10000):\n",
    "    \"\"\"\n",
    "    FOUND THIS ON THE WEB \n",
    "    https://mommermi.github.io/astronomy/2017/02/14/accessing-the-gaia-and-pan-starrs-catalogs-using-python.html    \n",
    "    \n",
    "    Query PanSTARRS @ VizieR using astroquery.vizier\n",
    "    :param ra_deg: RA in degrees\n",
    "    :param dec_deg: Declination in degrees\n",
    "    :param rad_deg: field radius in degrees\n",
    "    :param maxmag: upper limit G magnitude (optional)\n",
    "    :param maxsources: maximum number of sources\n",
    "    :return: astropy.table object\n",
    "    \"\"\"\n",
    "\n",
    "    import astropy.units as u\n",
    "    from astropy.coordinates import SkyCoord\n",
    "    from astroquery.vizier import Vizier\n",
    "\n",
    "    ra0, dec0 = imgwcs.wcs.crval\n",
    "    coords = SkyCoord(ra0, dec0, unit=u.deg, frame='icrs')\n",
    "    \n",
    "    if verbose:\n",
    "        print('Querying Pan-STARRS {:.3f} deg around RA, Dec={:.5f}, {:.5f} '.format(radius, ra0, dec0))\n",
    "    \n",
    "    pan_columns =['objID', 'RAJ2000', 'DEJ2000','gmag', 'rmag','imag','zmag', 'ymag']\n",
    "    #print(pan_columns)\n",
    "    pan_columns_mast = ['objID', 'raMean', 'decMean','gMeanPSFMag', 'rMeanPSFMag', 'iMeanPSFMag', 'zMeanPSFMag']\n",
    "        \n",
    "    vquery = Vizier(columns=pan_columns,\n",
    "                        column_filters={\"gmag\":\"<18\",\"gmag\":\"> 8\",\n",
    "                                        \"rmag\":\"<18\",\"rmag\":\"> 8\",\n",
    "                                        \"imag\":\"<18\",\"imag\":\"> 8\",\n",
    "                                        \"zmag\":\"<18\",\"zmag\":\"> 8\"},   \n",
    "                        row_limit=maxsources)\n",
    "\n",
    "    cat = vquery.query_region(coords, width=radius*u.deg, catalog=\"II/349/ps1\")[0]\n",
    "\n",
    "    # to make this compatible with original version that pulled catalog from MAST\n",
    "    for c1,c2 in zip(pan_columns,pan_columns_mast):\n",
    "        cat.rename_column(c1,c2)\n",
    "    # color cut\n",
    "    gi = cat['gMeanPSFMag'] - cat['iMeanPSFMag']\n",
    "    keep = np.where( (gi > 0.4) * (gi < 2.7) )[0]\n",
    "    cat = cat[keep]\n",
    "    if verbose:\n",
    "        print('Number of objects in panstarrs catalog = {}'.format(len(cat)))\n",
    "        \n",
    "    return cat\n",
    "\n",
    "#This plots the location of all the stars we detected in the data\n",
    "def show_stars(image_filename,star_cat,matchflag,p1=25,p2=95):\n",
    "    display_image(image_filename,p1=p1,p2=p2,cmap='Greys')\n",
    "\n",
    "    positions = np.transpose((star_cat['xcentroid'], star_cat['ycentroid']))\n",
    "    apertures = CircularAperture(positions, r=4.)\n",
    "    #norm = ImageNormalize(stretch=SqrtStretch())\n",
    "    apertures.plot(color='blue', lw=3, alpha=0.5)\n",
    "\n",
    "    #just the matching stars\n",
    "    positions_m = np.transpose((star_cat['xcentroid'][matchflag], star_cat['ycentroid'][matchflag]))\n",
    "    apertures_m = CircularAperture(positions, r=7.)\n",
    "    apertures.plot(color='red', lw=3, alpha=0.5)\n",
    "    \n",
    "def match_image_2_panstarrs(image_filename,band='r',maxoffset=5,fwhm=5,showstars=True):\n",
    "    '''\n",
    "    GOAL: match star catalog to panstarrs catalog\n",
    "\n",
    "    INPUT:\n",
    "    * image_filename: image to solve for ZP\n",
    "    * band : photometric band of image (g or r)\n",
    "    * maxoffset : max offset to allow when matching source on image to pansstars; default is 5\"\n",
    "\n",
    "    RETURNS:\n",
    "    * instrumental magnitude of matched sources\n",
    "    * panstarrs magnitude of matched sources  \n",
    "    * star_cat : the catalog of stars from DAOfind\n",
    "    '''\n",
    "    # First find stars in our data\n",
    "    data,header = fits.getdata(image_filename,header=True)\n",
    "    w = WCS(header)\n",
    "    star_cat = find_stars(data)\n",
    "\n",
    "    #Then use the WCS in the header to convert the x,y coordinates of those \n",
    "    #stars to RA,DEC\n",
    "    ra1,dec1 = w.wcs_pix2world(star_cat['xcentroid'],star_cat['ycentroid'],0)\n",
    "    # create skycoord for cat1.  This is a special format of catalog used for matching\n",
    "    scatalog = SkyCoord(ra=ra1*u.degree, dec=dec1*u.degree)\n",
    "\n",
    "    # get pansstarrs catalog\n",
    "    panstarrs_cat = get_panstarrs_catalog(w)\n",
    "    # create skycoord for cat2\n",
    "    pcatalog = SkyCoord(ra=panstarrs_cat['raMean'], dec=panstarrs_cat['decMean'])\n",
    "    # match panstarrs catalog to detected stars\n",
    "    idx, d2d, d3d = scatalog.match_to_catalog_sky(pcatalog)\n",
    "    matchflag = d2d < 5./3600*u.deg\n",
    "  \n",
    "    if band == 'r':\n",
    "      field = 'rMeanPSFMag'\n",
    "    elif band == 'g':\n",
    "      field = 'gMeanPSFMag'\n",
    "\n",
    "    \n",
    "    instrument_mag = -2.5*np.log10(star_cat['flux'][matchflag])\n",
    "    panstarrs_mag = panstarrs_cat[field][idx[matchflag]]\n",
    "    if showstars:\n",
    "      # plot image\n",
    "      plt.figure(figsize=(20,12))\n",
    "      # show the image, then with the stars marked\n",
    "      plt.subplot(1,2,1)\n",
    "      display_image(image_filename,p1=25,p2=95)\n",
    "      plt.subplot(1,2,2)\n",
    "      show_stars(image_filename,star_cat,matchflag)\n",
    "\n",
    "\n",
    "    return instrument_mag,panstarrs_mag,star_cat\n",
    "\n",
    "\n",
    "  \n"
   ]
  },
  {
   "cell_type": "markdown",
   "metadata": {},
   "source": [
    "### solve ZP for R-band image\n",
    "\n",
    "In the images below, the left image shows our field.  The right image shows it in grayscale with all the detected stars in blue and all those with a counterpart in the PAN-STARRS catalog in red."
   ]
  },
  {
   "cell_type": "code",
   "execution_count": null,
   "metadata": {},
   "outputs": [],
   "source": [
    "%%time\n",
    "# get panstarrs catalog for r-band image\n",
    "rimage_filename = redpath + 'mark50r-stacked-bkgsub.fit'\n",
    "rinst_mag,rpansstars_mag,rstar_cat = match_image_2_panstarrs(rimage_filename,band='r')"
   ]
  },
  {
   "cell_type": "markdown",
   "metadata": {},
   "source": [
    "### Derive zeropoint.\n",
    "\n",
    "We compare the \"true\" magnitudes from PAN-STARRS with our instrumental magnitudes and use the difference between them to get the zeropoint.  We do this using two ways of fitting the relation between the instrumental and PAN-STARRS magnitudes.\n",
    "\n",
    "In the plot we show those stars in red as the ones we use to get the fit.  "
   ]
  },
  {
   "cell_type": "code",
   "execution_count": null,
   "metadata": {},
   "outputs": [],
   "source": [
    "# make a plot of pansstars_mag vs inst_mag, and solve for the photometric zeropoint\n",
    "# use only the points with panstarrs magnitudes between 14 and 16.5 .  This is to\n",
    "# only use stars are bright enough for a precise measurement, but not so bright as to be \n",
    "# saturated\n",
    "plt.figure(figsize=(10,6))\n",
    "flag = (rpansstars_mag > 14) & (rpansstars_mag < 16.5)\n",
    "\n",
    "#plot all matches in blue, and those in the fit range in red\n",
    "plt.plot(rinst_mag,rpansstars_mag,'bo',alpha=.5,markersize=6)\n",
    "plt.plot(rinst_mag[flag],rpansstars_mag[flag],'ro',alpha=.5,markersize=6)\n",
    "\n",
    "#fit a line to these data using the scipy curve_fit function\n",
    "popt,pcov = curve_fit(fitZP,xdata=rinst_mag[flag],ydata=rpansstars_mag[flag])\n",
    "\n",
    "#fit a line using the numpy polyfit function\n",
    "c = np.polyfit(rinst_mag[flag],rpansstars_mag[flag],1)\n",
    "\n",
    "#draw the best-fit line from the curve_fit function\n",
    "xline = np.linspace(min(rinst_mag),max(rinst_mag),100)\n",
    "yline = xline+popt[0]\n",
    "plt.plot(xline,yline,'k--')\n",
    "\n",
    "plt.xlabel('Instrumental Magnitude')\n",
    "plt.ylabel('Panstarrs Magnitude')\n",
    "plt.title('r-band comparison')\n",
    "print('ZP from curve_fit = {:.2f}+/-{:.2f}'.format(popt[0],pcov[0][0]))\n",
    "print('ZP from polyfit = {:.2f}, with slope={:.2f}'.format(c[1],c[0]))\n",
    "rZP = popt[0]"
   ]
  },
  {
   "cell_type": "markdown",
   "metadata": {},
   "source": [
    "## problem 1\n",
    "\n",
    "Why are there stars at the right of this plot that are very much above the line?"
   ]
  },
  {
   "cell_type": "markdown",
   "metadata": {},
   "source": [
    "**answer here**:"
   ]
  },
  {
   "cell_type": "markdown",
   "metadata": {},
   "source": [
    "## repeat for the g-band"
   ]
  },
  {
   "cell_type": "code",
   "execution_count": null,
   "metadata": {},
   "outputs": [],
   "source": [
    "%%time\n",
    "# get panstarrs catalog for r-band image\n",
    "gimage_filename = redpath + 'mark50g-stacked-bkgsub.fit'\n",
    "ginst_mag,gpansstars_mag,gstar_cat = match_image_2_panstarrs(gimage_filename,band='g')"
   ]
  },
  {
   "cell_type": "code",
   "execution_count": null,
   "metadata": {},
   "outputs": [],
   "source": [
    "# make a plot of pansstars_mag vs inst_mag, and solve for the photometric zeropoint\n",
    "# use only the points with panstarrs magnitudes between 14 and 16.5 .  This is to\n",
    "# only use stars are bright enough for a precise measurement, but not so bright as to be \n",
    "# saturated\n",
    "plt.figure(figsize=(10,6))\n",
    "flag = (gpansstars_mag > 14) & (gpansstars_mag < 16.5)\n",
    "\n",
    "#plot all matches in blue, and those in the fit range in red\n",
    "plt.plot(ginst_mag,gpansstars_mag,'go',alpha=.5,markersize=6)\n",
    "plt.plot(ginst_mag[flag],gpansstars_mag[flag],'mo',alpha=.5,markersize=6)\n",
    "\n",
    "#fit a line to these data using the scipy curve_fit function\n",
    "popt,pcov = curve_fit(fitZP,xdata=ginst_mag[flag],ydata=gpansstars_mag[flag])\n",
    "\n",
    "#fit a line using the numpy polyfit function\n",
    "c = np.polyfit(ginst_mag[flag],gpansstars_mag[flag],1)\n",
    "\n",
    "#draw the best-fit line from the curve_fit function\n",
    "xline = np.linspace(min(ginst_mag),max(ginst_mag),100)\n",
    "yline = xline+popt[0]\n",
    "plt.plot(xline,yline,'k--')\n",
    "\n",
    "plt.xlabel('Instrumental Magnitude')\n",
    "plt.ylabel('Panstarrs Magnitude')\n",
    "plt.title('g-band comparison')\n",
    "print('ZP from curve_fit = {:.2f}+/-{:.2f}'.format(popt[0],pcov[0][0]))\n",
    "print('ZP from polyfit = {:.2f}, with slope={:.2f}'.format(c[1],c[0]))\n",
    "gZP = popt[0]"
   ]
  },
  {
   "cell_type": "markdown",
   "metadata": {},
   "source": [
    "## problem 2\n",
    "\n",
    "Based on the zeropoint, What would be the g and r-band magnitudes of a star with 50 counts in each band?"
   ]
  },
  {
   "cell_type": "markdown",
   "metadata": {},
   "source": [
    "**answer here**:"
   ]
  },
  {
   "cell_type": "markdown",
   "metadata": {},
   "source": [
    "#### Now calculate the magnitudes"
   ]
  },
  {
   "cell_type": "code",
   "execution_count": null,
   "metadata": {},
   "outputs": [],
   "source": [
    "# calculate the r-band magnitude\n",
    "rmag = rZP-2.5*np.log10(rstar_cat['flux'])\n",
    "gmag = gZP-2.5*np.log10(gstar_cat['flux'])\n"
   ]
  },
  {
   "cell_type": "markdown",
   "metadata": {},
   "source": [
    "## Now use the WCS to match the catalogs between the g and r-band images"
   ]
  },
  {
   "cell_type": "code",
   "execution_count": null,
   "metadata": {},
   "outputs": [],
   "source": [
    "data,header = fits.getdata(rimage_filename,header=True)\n",
    "w = WCS(header)\n",
    "rra,rdec = w.wcs_pix2world(rstar_cat['xcentroid'],rstar_cat['ycentroid'],0)\n",
    "rcoord = SkyCoord(ra=rra*u.degree, dec=rdec*u.degree)\n",
    "\n",
    "gra,gdec = w.wcs_pix2world(gstar_cat['xcentroid'],gstar_cat['ycentroid'],0)\n",
    "gcoord = SkyCoord(ra=gra*u.degree, dec=gdec*u.degree)\n",
    "# match panstarrs catalog to detected stars\n",
    "idx, d2d, d3d = rcoord.match_to_catalog_sky(gcoord)\n",
    "matchflag = d2d < 2./3600*u.deg\n",
    "\n",
    "rmatch = rmag[matchflag]\n",
    "gmatch = gmag[idx[matchflag]]\n",
    "grmatch = gmatch - rmatch"
   ]
  },
  {
   "cell_type": "code",
   "execution_count": null,
   "metadata": {},
   "outputs": [],
   "source": [
    "# plot HR diagram!!!\n",
    "\n",
    "plt.figure(figsize=(10,6))\n",
    "plt.plot(gmatch-rmatch,gmatch,'ko',alpha=.3,markersize=6)\n",
    "\n",
    "plt.xlabel('g-r',fontsize=16)\n",
    "plt.ylabel('g magnitude',fontsize=16)\n",
    "plt.axis([-.2,1.5,9,17.5])\n",
    "plt.gca().invert_yaxis()\n",
    "plt.title('Markarian 50 H-R Diagram',fontsize=20)\n"
   ]
  },
  {
   "cell_type": "markdown",
   "metadata": {},
   "source": [
    "## problem 3\n",
    "\n",
    "Describe this diagram to me.  What parts of this diagram do you recognize?  What components do you not see and what might this tell you?"
   ]
  },
  {
   "cell_type": "markdown",
   "metadata": {},
   "source": [
    "**answer here**: "
   ]
  },
  {
   "cell_type": "markdown",
   "metadata": {},
   "source": [
    "## Now plot isochrones\n",
    "\n",
    "The code below reads in theoretical isochrones that I downloaded from an online source.  In the second block of code you will need to vary with the isochrone age to answer the question at the bottom of the notebook."
   ]
  },
  {
   "cell_type": "code",
   "execution_count": null,
   "metadata": {},
   "outputs": [],
   "source": [
    "#these are from http://stev.oapd.inaf.it/cgi-bin/cmd\n",
    "#isodat = astropy.table.read('output227701722717.dat',format='ascii')\n",
    "#log(age) to 9.8 with 0.2 log spacing \n",
    "filename = 'output571753586017.dat'\n",
    "\n",
    "isodat = Table.read(filename,format='ascii')\n",
    "logage = isodat['col3']\n",
    "mass = isodat['col6']\n",
    "isog = isodat['col29']\n",
    "isor = isodat['col30']\n"
   ]
  },
  {
   "cell_type": "code",
   "execution_count": null,
   "metadata": {},
   "outputs": [],
   "source": [
    "# plot HR diagram!!!\n",
    "\n",
    "plt.figure(figsize=(10,6))\n",
    "nonsatflag = gmatch>12\n",
    "plt.plot(gmatch[nonsatflag]-rmatch[nonsatflag],gmatch[nonsatflag],'ko',alpha=.3,markersize=6)\n",
    "\n",
    "plt.xlabel('g-r',fontsize=16)\n",
    "plt.ylabel('g magnitude',fontsize=16)\n",
    "plt.axis([-.2,1.5,9,17.5])\n",
    "plt.gca().invert_yaxis()\n",
    "plt.title('Markarian 50 H-R Diagram',fontsize=20)\n",
    "\n",
    "# plot isochrone with a log(age/yr) starting at 7.0 going to 9.8 in units of logage(0.2)\n",
    "#****************\n",
    "#play with these ages until you find the oldest age that fits the data\n",
    "target_age = \n",
    "\n",
    "#this finds which isochrone from the data best matches the target age.\n",
    "agedist = abs(logage - target_age)\n",
    "ageflag = (agedist<0.01)\n",
    "\n",
    "#this part uses a published distance to the cluster and the AV from from the WebDA \n",
    "#data base to dim and redden the isochrones\n",
    "d = 3460.0 #pc\n",
    "DM = 5 + np.log10(d/10.0)     #the distance modulus\n",
    "\n",
    "#the extinction in mag from the Webda database\n",
    "AV = 0.81\n",
    "\n",
    "#these numbers are specific to the filters and give the ratio of A(lambda)/AV\n",
    "Ag_AV = 1.18\n",
    "Ar_AV = 0.86\n",
    "plt.plot(isog[ageflag] + Ag_AV*AV - ( isor[ageflag] + Ar_AV*AV),isog[ageflag]+Ag_AV*AV+DM,lw=2,zorder=1)"
   ]
  },
  {
   "cell_type": "markdown",
   "metadata": {},
   "source": [
    "## problem 4\n",
    "By playing with the isochrone ages in the previous code block, give an **upper limit** on what you think the age can be in *Myr*.\n",
    "\n",
    "Can you think of anything in how we plotted the isochrones that could complicate this interpretation?\n"
   ]
  },
  {
   "cell_type": "markdown",
   "metadata": {},
   "source": [
    "**answer here**:"
   ]
  }
 ],
 "metadata": {
  "kernelspec": {
   "display_name": "Python 3",
   "language": "python",
   "name": "python3"
  },
  "language_info": {
   "codemirror_mode": {
    "name": "ipython",
    "version": 3
   },
   "file_extension": ".py",
   "mimetype": "text/x-python",
   "name": "python",
   "nbconvert_exporter": "python",
   "pygments_lexer": "ipython3",
   "version": "3.7.10"
  }
 },
 "nbformat": 4,
 "nbformat_minor": 2
}
