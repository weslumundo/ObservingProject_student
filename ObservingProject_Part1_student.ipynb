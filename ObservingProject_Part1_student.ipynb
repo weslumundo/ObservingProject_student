{
 "cells": [
  {
   "cell_type": "markdown",
   "metadata": {},
   "source": [
    "<h2>OBSERVATIONAL ASTROPHYSICS – FALL 2021 OBSERVING EXERCISE I- Part 1</h2>\n",
    "<h4>All elements (Part 1 and 2) are due by October 6th at noon.</h4>"
   ]
  },
  {
   "cell_type": "markdown",
   "metadata": {},
   "source": [
    "<i> I know that this is soon, but things need to work on a somewhat accelerated timescale for us to be ready for our observing. </i>\n",
    "\n",
    "<i>Note: Enter in all code to the problems in the provided notebook cells. Questions to answer will be <b>bolded</b>.</i>  "
   ]
  },
  {
   "cell_type": "markdown",
   "metadata": {},
   "source": [
    "As a key element in this class, we are planning to observe remotely with the 0.7m Breyo Observatory at Siena College in the vicinity of Albany, NY. The telescope is equipped with a CCD camera and a variety of broad band filters. The broad-band filters include the standard Sloan Digital Sky Survey *ugriz* set. The plan is to use the scope potentially (weather permitting) to obtain photometry of an open cluster.\n",
    "\n",
    "All your answers should be entered using the python notebook templates provided as part of this assignment. Each student will need to hand in their own notebook by uploading it to GitHub.   Just make a repository called `Observing Exercise Part 1` and send me the link.  You don't need to make me a collaborator.\n",
    "\n",
    "In the code places where you will need to put something or write your own code are specified by `#***************`"
   ]
  },
  {
   "cell_type": "markdown",
   "metadata": {},
   "source": [
    "<h3>Part 1</h3>\n",
    "To plan your observing, you need to derive a few basics about the combined scope/ instrumentation. The <a href = \"https://planewave.com/product/cdk700-0-7m-cdk-telescope-system/\">0.7m Breyo telescope</a> at Siena has an optics combination that results in an effective f/6.5 ratio. It is equipped with an electronically cooled <a href = \"https://www.flicamera.com/kepler/kepler.html\">  Kepler KL4040 camera</a> and a filter wheel assembly from Finger Lakes Instrumentation.  \n",
    "\n",
    "The KL4040 camera has the GS4040 sCMOS detector described at the bottom of the CCD page.  Note that \"4k\" in astronomy language means 4096.\n",
    "\n",
    "<b><u>A)    Given the CCD type and the telescope optics:\n",
    "<ol> \n",
    "    <li>What will be the size in arcseconds of the typical CCD pixel on the KL4040 chip.</li>\n",
    "    <li>What is the field of view (FOV) of the 0.7m CMOS camera in arc minutes? By FOV I mean the length of one side of the detector. </li>\n",
    "<ol>\n",
    "</u></b>\n",
    "    \n",
    "\n",
    "   "
   ]
  },
  {
   "cell_type": "code",
   "execution_count": null,
   "metadata": {},
   "outputs": [],
   "source": [
    "#Answer A) Here\n",
    "#You will need to use simple mathematical expressions and what you learned in class to find the asnwers to these.  \n",
    "#In order to get credit for this part you will need to write an expression that properly executes and results in the answer\n",
    "#You will need an expression for both parts 1 and 2 above\n",
    "\n",
    "#******************\n",
    "#part 1\n",
    "\n",
    "\n",
    "#part 2"
   ]
  },
  {
   "cell_type": "markdown",
   "metadata": {},
   "source": [
    "We are using the telescope from Oct. 5-19 depending on the weather. We will need to begin the telescope setup procedure about 1 hour before Sunset so that we are ready to begin taking frames once it becomes dark enough to observe and we can take some calibration frames while the sky is still bright enough. (Note: since we are observing from near Albany, NY, all the questions below need to be answered as if you were in Albany. We can then subtract 1 hour from the times to account for the local observing schedule.) \n",
    "\n",
    "<b><u>B)    When does sunset occur on Oct. 10? </u></b>  <i> The end of the code prints your answer in UTC. You need to also print it in Albany and Lawrence time.</i>"
   ]
  },
  {
   "cell_type": "code",
   "execution_count": null,
   "metadata": {},
   "outputs": [],
   "source": [
    "#There is a function in the python package astroplan to find the sunset time for a given location and date:\n",
    "#    https://astroplan.readthedocs.io/en/latest/api/astroplan.Observer.html#astroplan.Observer.sun_set_time\n",
    "#This function is a part of the observer class, and takes an input Time object from astropy corresponding to \n",
    "# the date. See documentation for astropy's Time object here for reference if needed:\n",
    "#    https://docs.astropy.org/en/stable/api/astropy.time.Time.html\n",
    "#Here's an example of how this function works:\n",
    "#\n",
    "#    Time_date = Time('2001-05-27')\n",
    "#    observer_object = Observer(longtiude = -155.0903*u.deg, latitude = 19.7026*u.deg, elevation = 100.0*u.m, name = \"Subaru\",timezone = \"US/Hawaii\")\n",
    "#    sunset_time = observer_object.sun_set_time(Time_date, which = \"next\")\n",
    "#\n",
    "#Note here that Time_date is the date of observation, and which=\"next\" instructs the function to provide the next sunset time\n",
    "#For details on the observer object, to be used throughout this assignment, see here:\n",
    "#    https://astroplan.readthedocs.io/en/latest/api/astroplan.Observer.html\n",
    "#In general, the observer object takes in a longtiude, latitude, elevation (we assign this as 0), a name of your choice, and a timezone.\n",
    "#You can view a list of available timezones on this stackoverflow thread:\n",
    "#    https://stackoverflow.com/questions/13866926/is-there-a-list-of-pytz-timezones\n",
    "\n",
    "\n",
    "#We import the necessary packages for this section\n",
    "from astroplan import Observer\n",
    "from astropy.time import Time\n",
    "import astropy.units as u\n",
    "#import warnings\n",
    "#warnings.filterwarnings(\"ignore\")\n",
    "\n",
    "#****************\n",
    "#Here you will need to define the coordinates of the MLO observatory. Note that W and S have negative values (whereas E and N are positive).\n",
    "#The latitude and longitude need to be put in decimal form, e.g. long = 20.0003, lat = 33.33333 (those are not the right coordinates)\n",
    "_LONGITUDE_ =  #*******************\n",
    "_LATITUDE_ =   #*******************\n",
    "\n",
    "#This is an astropy Time object, with a time value that corresponds to the date of observation. Date format: Time('YYYY-MM-DD')\n",
    "_TIME_ = Time('') #*******************\n",
    "\n",
    "\n",
    "#You now need to make the observer object for the MLO observatory. See the example above for help\n",
    "Breyo_observer = Observer(longitude = _LONGITUDE_*u.deg, latitude = _LATITUDE_*u.deg, elevation = 43.0*u.m, name = \"Breyo\",timezone = \"US/Eastern\") \n",
    "\n",
    "#This computes the sunset at the time specified by the TIME object, at the location defined by Breyo_observer\n",
    "sunset_time = Breyo_observer.sun_set_time(_TIME_, which = \"next\") \n",
    "\n",
    "#The following provides a useful way to print out astropy Time objects in a convenient way. \n",
    "#The time returned here is in UTC time\n",
    "print(\"Sunset: {0.iso}\".format(sunset_time)) \n",
    "\n",
    "#*****************\n",
    "#put calculation here to find sunset time at Breyo and in Lawrence.  Also include code to print answers."
   ]
  },
  {
   "cell_type": "markdown",
   "metadata": {},
   "source": [
    "Note – technically, sunset refers to the moment when the entire disk of the sun sinks below the horizon. However, the sky is still quite bright because of scattered/refracted light from the seeing sun. The next key moment is the end of twilight, defined as the moment when the sun’s center is a certain number of degrees below the horizon: civil twilight = 6°, astronomical twilight = 18°. At astronomical twilight, it should be totally dark (Moon excluded).\n",
    "\n",
    "<b><u>C)    When does <font color=\"red\">astronomical twilight</font> occur on Oct. 10?</u></b>"
   ]
  },
  {
   "cell_type": "code",
   "execution_count": null,
   "metadata": {},
   "outputs": [],
   "source": [
    "#There is an astroplan function that can be used to find astronomical twilight for a given time and position(observer):\n",
    "#    https://astroplan.readthedocs.io/en/latest/api/astroplan.Observer.html#astroplan.Observer.twilight_evening_astronomical\n",
    "#This function is a part of the observer class in astroplan, and its inputs are a time object corresponding to\n",
    "#the date of observation, and an argument which, with possible values previous, nearest, or next, which choose\n",
    "#the corresponding astronomical twilight to find\n",
    "#Example:\n",
    "#    observer_object = Observer(location=location, name=\"Subaru\", timezone=\"US/Hawaii\")\n",
    "#    astro_twilight = observer_object.twilight_evening_astronomical(Time_date, which = \"next\")\n",
    "\n",
    "###\n",
    "#*******************\n",
    "#Answer C) Here. YOUR CODE: \n",
    "astro_twilight = \n",
    "\n",
    "#The following provides a useful way to print out astropy Time objects in a convenient way. \n",
    "print(\"Astronomical Twilight UTC: {0.iso}\".format(astro_twilight)) \n"
   ]
  },
  {
   "cell_type": "markdown",
   "metadata": {},
   "source": [
    "Convert the UTC output to the local time both at the Breyo Observatory and in Lawrence and put the answer and the calculation in the next cell. The result of the cell should print out the twilight time at both locations."
   ]
  },
  {
   "cell_type": "code",
   "execution_count": null,
   "metadata": {},
   "outputs": [],
   "source": [
    "#Part C answer goes here\n",
    "#*******************\n",
    "\n",
    "#Lawrence time\n",
    "\n",
    "#Breyo time\n"
   ]
  },
  {
   "cell_type": "markdown",
   "metadata": {},
   "source": [
    "We will be observing for the first half of the night. Given your answer to (C), we will divide the evening into two time slots, each 1.5 HRS long. Let AT = Astronomical Twilight, then the 2 slots are:\n",
    "<ol>\n",
    "    <li> <b>time slot 1</b> = AT + 0.0 HR to AT + 1.5 HRS</li>\n",
    "    <li> <b>time slot 2</b> = AT + 1.5 HRS to AT+ 3.0 HRS</li>\n",
    "</ol>\n",
    "A link to the names of everyone and their time slots were posted on Blackboard in Assignments/Observing. You should work within your group to prepare the observing materials discussed below, but everyone will need to hand in their own notebook.\n",
    "\n",
    "For your group/time slot (assume we observe on Oct. 10th as the times won't very significantly over our observing window):\n",
    "\n",
    "<b><u>D) What is the optimum range of RA for objects that you would ideally observe during your 1.5-hour session?</u></b> Note: <i>Think about whether objects of a given RA are rising or settng at the beginning and end of your observation session.</i>"
   ]
  },
  {
   "cell_type": "markdown",
   "metadata": {},
   "source": [
    "Go to the web page https://www.iiap.res.in/people/personnel/reks/software/javascript/calclst.php to find the sidereal time at different local times.  \n",
    "\n",
    "In the first row, enter the date and desired local time in Albany.  In the second line, enter your shift from UTC to Albany and the longitude of Albany.  Hit return in any box to update.  \n",
    "\n",
    "Enter the information in the empty markdown box below and make sure to give a rationale as to why this range of RA is appropriate."
   ]
  },
  {
   "cell_type": "markdown",
   "metadata": {},
   "source": [
    "*Answer for D goes here:*"
   ]
  },
  {
   "cell_type": "markdown",
   "metadata": {},
   "source": [
    "<b>E) If you want to remain within 30° of the zenith, what is the optimum range in declination? You need to answer this in two parts:</b>\n",
    "\n",
    "1. <b>Given the location of the observatory, objects at their transit need to have what range of declination to be within 30° of the zenith.</b><i> This requires a straightforward calculation</i>\n",
    "        \n"
   ]
  },
  {
   "cell_type": "code",
   "execution_count": null,
   "metadata": {},
   "outputs": [],
   "source": [
    "#Answer E.1) Here\n",
    "#*******************\n",
    "#Part 1:\n",
    "#   Figure out how to use the observatory's location to find the position of the zenith.\n",
    "#"
   ]
  },
  {
   "cell_type": "markdown",
   "metadata": {},
   "source": [
    "2. <b>Using airmass plots (see below), determine what range of declinations would keep objects within 30° of the zenith over the course of your 1.5 hour observation block. Your answer will need to include airmass plots to demonstrate this. These plots can contain multiple curves, e.g. for different RA and DEC combinations, as long as the curves are labeled. All plots should come with a caption.</b>\n"
   ]
  },
  {
   "cell_type": "code",
   "execution_count": null,
   "metadata": {},
   "outputs": [],
   "source": [
    "#Here, we will provide you with the code needed to make airmass plots. You will use this to guide your answer to E part 2\n",
    "###We important all the needed packages\n",
    "from astropy.coordinates import SkyCoord\n",
    "from astroplan import FixedTarget\n",
    "from astroplan.plots import plot_airmass, plot_altitude\n",
    "import matplotlib.pyplot as plt\n",
    "import numpy as np\n",
    "%config InlineBackend.figure_format = 'svg' #This makes the plots appear better inline in the notebook\n",
    "###\n",
    "\n",
    "fig, ax = plt.subplots() #These are the matplotlib Figure and and Axis objects we will plot on\n",
    "\n",
    "#*******************\n",
    "#you will need to enter an observation time in UT time format 'YYYY-MM-DD HH:MM:SS'.  \n",
    "#For this problem, you will need to change this time such that the x-axis of the plot\n",
    "#starts just before sunset.  Note the time zone of the x-axis in the plot to determine what \n",
    "#the right time units are to put in the line below.\n",
    "observation_time = Time('') #*******************\n",
    "\n",
    "#*******************\n",
    "#Now, you must define the coordinates for a target in the sky, for which the airmass plot will be made.\n",
    "#You will have to think about how to define these coordinates to find your answer for question E.2\n",
    "#With these coordinates, we make a target object using the FixedTarget function from astroplan.\n",
    "#Using the RA range from Part D, you should play with the DEC parameter until you find which DEC\n",
    "#values satisfy the altitude constraint.  The `*u.deg` apply degree units to the number.\n",
    "target_coord = SkyCoord(ra= *u.deg, dec= *u.deg)\n",
    "target_source = FixedTarget(coord=target_coord, name=\"Target\")\n",
    "\n",
    "#We now actually construct the airmass plot. The plot_altitude function makes the airmass plot, with the elevation on the y-axis\n",
    "plot_altitude(target_source,Breyo_observer, observation_time)\n",
    "\n",
    "#We will now plot a line and shaded region at and above an elevation of 60 degrees\n",
    "xmin, xmax = ax.get_xlim()\n",
    "x_line = np.linspace(xmin,xmax,100)\n",
    "y = [60]*100\n",
    "ax.plot(x_line, y, ls = '--')\n",
    "ax.fill_between(x_line, 60, 90, alpha = 0.1, color= 'orange' )\n",
    "\n",
    "plt.show()\n"
   ]
  },
  {
   "cell_type": "code",
   "execution_count": null,
   "metadata": {},
   "outputs": [],
   "source": [
    "#*******************\n",
    "#Answer E.2) Here\n",
    "\n",
    "#Part 2: \n",
    "#   You will need to make a series of airmass plots using the code above to figure out which declinations satisfy the requirement here.\n",
    "#   You can copy the code from above to make the airmass plots! \n",
    "#\n",
    "\n",
    "\n"
   ]
  }
 ],
 "metadata": {
  "kernelspec": {
   "display_name": "Python 3",
   "language": "python",
   "name": "python3"
  },
  "language_info": {
   "codemirror_mode": {
    "name": "ipython",
    "version": 3
   },
   "file_extension": ".py",
   "mimetype": "text/x-python",
   "name": "python",
   "nbconvert_exporter": "python",
   "pygments_lexer": "ipython3",
   "version": "3.7.10"
  }
 },
 "nbformat": 4,
 "nbformat_minor": 2
}
