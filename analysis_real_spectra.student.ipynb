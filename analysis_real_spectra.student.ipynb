{
 "cells": [
  {
   "cell_type": "markdown",
   "id": "ba8072bf",
   "metadata": {},
   "source": [
    "<h2>OBSERVATIONAL ASTROPHYSICS – FALL 2021 Analysing our spectra</h2>\n",
    "\n",
    "In this exercise we will look at the spectra of three objects that we took as part of the class: M57 - a planetary nebula, Jupiter as seen in reflected sunlight, and the star Vega.\n",
    "\n",
    "There are 5 problems.  This assignment is worth 50 points.\n",
    "\n",
    "**Due on Dec. 10 at 12:00pm**"
   ]
  },
  {
   "cell_type": "code",
   "execution_count": null,
   "id": "0ebe2328",
   "metadata": {},
   "outputs": [],
   "source": [
    "import astropy.units as u\n",
    "from astropy.table import unique, Table\n",
    "import numpy as np\n",
    "from matplotlib import pyplot as plt\n",
    "import os\n",
    "from specutils import Spectrum1D\n",
    "from numpy.random import uniform\n",
    "import matplotlib.transforms as transforms"
   ]
  },
  {
   "cell_type": "code",
   "execution_count": null,
   "id": "0c21a781",
   "metadata": {},
   "outputs": [],
   "source": [
    "#this subroutine will allow us to draw lines on our spectra\n",
    "def lineplot(linelist):\n",
    "    transDA = transforms.blended_transform_factory(\n",
    "    ax.transData, ax.transAxes) #  from the transforms tutorial\n",
    "\n",
    "    for line in linelist:\n",
    "        if((line[1]>lammin) & (line[1]<lammax)):\n",
    "            plt.axvline(linewidth=0.5,color='r',x=line[1])\n",
    "            plt.text(line[1], #wavelength from list\n",
    "                     uniform(0.5,1), # wiggle the labels so they don't overlap\n",
    "                     line[0], # string label\n",
    "                     transform=transDA,\n",
    "                     color='red',\n",
    "                     family='serif')"
   ]
  },
  {
   "cell_type": "markdown",
   "id": "9fc80477",
   "metadata": {},
   "source": [
    "### Identify features in spectrum of M57\n",
    "\n",
    "In this exercise you will identify various components of the spectrum of M57.  In doing this you can zoom in and out of the plot using the `ax.set_xlim` and `ax.set_ylim()` commands.  \n",
    "\n",
    "1. **Problem** -  Uncomment all the spectral features in the \"linelist\" variable that correspond to clear features in the spectrum.    *Note: Not all features have line designations in my list*"
   ]
  },
  {
   "cell_type": "code",
   "execution_count": null,
   "id": "cfe4b3e1",
   "metadata": {},
   "outputs": [],
   "source": [
    "#read in the three spectra we took\n",
    "m57_path = 'M57_Object_CROP.fit'\n",
    "vega_path ='Vega_Object_CROP.fit'\n",
    "jup_path = 'Jupiter_Object_CROP.fit'\n",
    "\n",
    "specm57 = Spectrum1D.read(m57_path)\n",
    "specjup = Spectrum1D.read(jup_path)\n",
    "specvega = Spectrum1D.read(vega_path)\n",
    "\n",
    "#plot the M57 spectrum\n",
    "plt.figure(figsize = (14,6))\n",
    "ax = plt.gca()\n",
    "plt.plot(specm57.wavelength,specm57.flux,label=\"M57\")\n",
    "plt.xticks(fontsize=15)\n",
    "plt.yticks(fontsize=15)\n",
    "plt.xlabel(\"$\\lambda [\\AA]$\",fontsize=20)\n",
    "plt.ylabel(\"Relative Flux\",fontsize=20)\n",
    "plt.title('M57')\n",
    "\n",
    "#**************\n",
    "#you can change these to zoom in and out of certain parts of the spectra.  \n",
    "#Make a copy of these and change your copy so as to remember what the \n",
    "#original values were\n",
    "fluxmin = 0\n",
    "fluxmax = 40\n",
    "lammin = 3600\n",
    "lammax = 7400\n",
    "ax.set_ylim([fluxmin,fluxmax])\n",
    "ax.set_xlim([lammin,lammax])\n",
    "\n",
    "#***************************\n",
    "#Uncomment all of the lines that correspond to identifiable features in the spectra\n",
    "linelist = [\n",
    "#      ('[OII]',3727),\n",
    "#     ('[OIII]',4363),\n",
    "#     ('[OIII]',4959),\n",
    "#     ('[OIII]',5007),\n",
    "#     ('[OI]',6300),\n",
    "#     ('[OI]',6363),\n",
    "#     ('[NII]',6548),\n",
    "#     ('[NII]',6584),\n",
    "#     ('[SII]',6716),\n",
    "#     ('[SII]',6731),\n",
    "#     ('CIII',4647),\n",
    "#     ('MgI',5170),\n",
    "#     ('FeI', 5270),\n",
    "#     ('Hepsilon',3970),\n",
    "#     ('Hdelta',4103),\n",
    "#     ('Hgamma',4341),\n",
    "#     ('Hbeta',4861),\n",
    "#     ('Halpa',6563),\n",
    "#     ('NaD', 5890),\n",
    "#     ('HeII',4541),\n",
    "#     ('HeII',4686),\n",
    "#     ('HeI',4471),\n",
    "#     ('HeI',5875),\n",
    "#     ('HeI',7065),\n",
    "#     ('[ArIII]',7135),\n",
    "#     ('FeI',5335)\n",
    "]\n",
    "\n",
    "#draw lines on the spectrum\n",
    "lineplot(linelist)"
   ]
  },
  {
   "cell_type": "markdown",
   "id": "4f62f8fe",
   "metadata": {},
   "source": [
    "2. **Problem** -  Our slit went right through the center of the planetary nebula.  Using what you know about the composition of planetary nebula (not necessarily from this class), describe here from where the broad emission lines and sharp rise in flux at the blue end of the planetary nebula come from.\n",
    "**answer here**"
   ]
  },
  {
   "cell_type": "markdown",
   "id": "7528285f",
   "metadata": {},
   "source": [
    "### Identify features in spectrum of Jupiter\n",
    "\n",
    "In this exercise you will identify various components of the spectrum of Jupiter.  In doing this you can zoom in and out of the plot using the `ax.set_xlim` and `ax.set_ylim()` commands.  "
   ]
  },
  {
   "cell_type": "code",
   "execution_count": null,
   "id": "babbf128",
   "metadata": {},
   "outputs": [],
   "source": [
    "#plot Vega and Jupiter, where I have scaled the flux of Jupiter so that they \n",
    "#better overlap. You can change that scaling\n",
    "plt.figure(figsize = (14,6))\n",
    "ax = plt.gca()\n",
    "plt.plot(specvega.wavelength,specvega.flux,label=\"Vega\")\n",
    "plt.plot(specjup.wavelength,specjup.flux*5,label=\"Jupiter\")\n",
    "\n",
    "#**************\n",
    "#you can change these to zoom in and out of certain parts of the spectra.  \n",
    "#Make a copy of these and change your copy so as to remember what the \n",
    "#original values were\n",
    "fluxmin = 0\n",
    "fluxmax = 6\n",
    "lammin = 3600\n",
    "lammax = 7600\n",
    "ax.set_ylim([fluxmin,fluxmax])\n",
    "ax.set_xlim([lammin,lammax])\n",
    "\n",
    "plt.xticks(fontsize=15)\n",
    "plt.yticks(fontsize=15)\n",
    "plt.xlabel(\"$\\lambda [\\AA]$\",fontsize=20)\n",
    "plt.ylabel(\"Relative Flux\",fontsize=20)\n",
    "plt.legend(fontsize=20)\n"
   ]
  },
  {
   "cell_type": "markdown",
   "id": "10d4edc5",
   "metadata": {},
   "source": [
    "3. **Problem** -  Using what you know about the spectral lines in an A0V star and the spectrum of Vega plotted below identify as many of the lines as you can in the spectrum of Jupiter.  By \"identify\" I mean give the wavelength, the name of the element of the line, and which transition of that line.  If you think you should fine a line and can't write why it isn't there. *Note - The line at 6880$\\mathring A$ is from the Earth's atmosphere and should be ignored*\n",
    "**answer here**"
   ]
  },
  {
   "cell_type": "markdown",
   "id": "d6049617",
   "metadata": {},
   "source": [
    "### Discuss the physical conditions that drive line formation\n",
    "\n",
    "In this exercise you will identify various components of the spectrum of Jupiter.  In doing this you can zoom in and out of the plot using the `ax.set_xlim` and `ax.set_ylim()` commands.  "
   ]
  },
  {
   "cell_type": "code",
   "execution_count": null,
   "id": "3171f762",
   "metadata": {},
   "outputs": [],
   "source": [
    "#plot Vega and M57, where I have scaled the flux of Jupiter so that they \n",
    "#better overlap. You can change that scalingplt.figure(figsize = (14,6))\n",
    "plt.figure(figsize = (14,6))\n",
    "ax = plt.gca()\n",
    "plt.plot(specm57.wavelength,specm57.flux,label=\"M57\")\n",
    "plt.plot(specvega.wavelength,specvega.flux*8,label=\"Vega\")\n",
    "\n",
    "#**************\n",
    "#you can change these to zoom in and out of certain parts of the spectra.  \n",
    "#Make a copy of these and change your copy so as to remember what the \n",
    "#original values were\n",
    "fluxmin = 0\n",
    "fluxmax = 40\n",
    "lammin = 3600\n",
    "lammax = 7600\n",
    "ax.set_ylim([fluxmin,fluxmax])\n",
    "ax.set_xlim([lammin,lammax])\n",
    "\n",
    "plt.xticks(fontsize=15)\n",
    "plt.yticks(fontsize=15)\n",
    "plt.xlabel(\"$\\lambda [\\AA]$\",fontsize=20)\n",
    "plt.ylabel(\"Relative Flux\",fontsize=20)\n",
    "plt.legend(fontsize=20)"
   ]
  },
  {
   "cell_type": "markdown",
   "id": "08c2064c",
   "metadata": {},
   "source": [
    "4. **Problem** -  There are lines in common between M57 and Vega but they are in absorption in Vega and in Emission in M57. \n",
    "**(a)** Identify the lines in common.  *Note that there may be small wavelength shits between the two spectrum because of imperfect wavelength calibration.*\n",
    "\n",
    "**(b)** Explain why they are in emission in one spectrum and in absorption in the other.  Use your knowledge of Kirkhoffs laws.\n",
    "\n",
    "*Note - The line at 6880$\\mathring A$ is from the Earth's atmosphere and should be ignored*\n",
    "\n",
    "**answer here**"
   ]
  },
  {
   "cell_type": "markdown",
   "id": "a287154e",
   "metadata": {},
   "source": [
    "### Discuss the origins of Jupiter's spectrum\n",
    "\n",
    "See below the graph for the question"
   ]
  },
  {
   "cell_type": "code",
   "execution_count": null,
   "id": "60bf256c",
   "metadata": {
    "scrolled": false
   },
   "outputs": [],
   "source": [
    "#this is a comparison star from a library similar to that we used in our \n",
    "#very first spectral exercise.\n",
    "starpath = '95128.txt'  #G2V\n",
    "star1 = Table.read(starpath,format='ascii', names=('lambda','flam'))\n",
    "\n",
    "#plot Jupiter\n",
    "plt.figure(figsize = (14,6))\n",
    "ax = plt.gca()\n",
    "plt.plot(specjup.wavelength,specjup.flux*20,label=\"Jupiter\")\n",
    "\n",
    "#smooth the comparison stellar spectrum so that the many spectral features\n",
    "#don't make the comparison difficult.  We use a boxcar filter of size \"kernel_size\"\n",
    "#**********\n",
    "#If you'd like you can play with the kernel size, but it is not required.\n",
    "kernel_size = 20\n",
    "kernel = np.ones(kernel_size) / kernel_size\n",
    "star1convflam = np.convolve(star1['flam'], kernel, mode='same')\n",
    "#plot the convolved spectrum\n",
    "plt.plot(star1['lambda'],star1convflam*20, label = 'A G2V star')\n",
    "\n",
    "#**************\n",
    "#you can change these to zoom in and out of certain parts of the spectra.  \n",
    "#Make a copy of these and change your copy so as to remember what the \n",
    "#original values were\n",
    "fluxmin = 0\n",
    "fluxmax = 25\n",
    "lammin = 3600\n",
    "lammax = 7600\n",
    "ax.set_ylim([fluxmin,fluxmax])\n",
    "ax.set_xlim([lammin,lammax])\n",
    "\n",
    "\n",
    "plt.xticks(fontsize=15)\n",
    "plt.yticks(fontsize=15)\n",
    "plt.xlabel(\"$\\lambda [\\AA]$\",fontsize=20)\n",
    "plt.ylabel(\"Relative Flux\",fontsize=20)\n",
    "plt.legend(fontsize=20)"
   ]
  },
  {
   "cell_type": "markdown",
   "id": "3d16a56d",
   "metadata": {},
   "source": [
    "\n",
    "5. **Problem** - In this exercise you see a comparison of Jupiter's spectrum to that of a G2V star similar to the sun.  All the visible light we see from Jupiter is reflected sunlight.  Do your best given your knowledge of how light propogates through media to describe why Jupiter's spectrum is significantly redder than that of the sun.  \n",
    "\n",
    "*As an aside, note that the very wide absorption lines longward of 6000$\\mathring A$ in Jupiter's spectrum are absorption bands from molecules in Jupiter's atmosphere.  These bands absorb light over a wide wavelength range.*\n",
    "\n",
    "**answer here**\n"
   ]
  }
 ],
 "metadata": {
  "kernelspec": {
   "display_name": "Python 3",
   "language": "python",
   "name": "python3"
  },
  "language_info": {
   "codemirror_mode": {
    "name": "ipython",
    "version": 3
   },
   "file_extension": ".py",
   "mimetype": "text/x-python",
   "name": "python",
   "nbconvert_exporter": "python",
   "pygments_lexer": "ipython3",
   "version": "3.7.10"
  }
 },
 "nbformat": 4,
 "nbformat_minor": 5
}
